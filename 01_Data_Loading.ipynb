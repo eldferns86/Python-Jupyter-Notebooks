{
  "nbformat": 4,
  "nbformat_minor": 0,
  "metadata": {
    "anaconda-cloud": {},
    "kernelspec": {
      "display_name": "Python 3",
      "language": "python",
      "name": "python3"
    },
    "language_info": {
      "codemirror_mode": {
        "name": "ipython",
        "version": 3
      },
      "file_extension": ".py",
      "mimetype": "text/x-python",
      "name": "python",
      "nbconvert_exporter": "python",
      "pygments_lexer": "ipython3",
      "version": "3.7.3"
    },
    "colab": {
      "name": "01 - Data Loading.ipynb",
      "provenance": []
    }
  },
  "cells": [
    {
      "cell_type": "markdown",
      "metadata": {
        "id": "NK-RDmnBtdKQ"
      },
      "source": [
        "# Data Loading"
      ]
    },
    {
      "cell_type": "markdown",
      "metadata": {
        "id": "qNREz4gctdKS"
      },
      "source": [
        "Get some data to play with"
      ]
    },
    {
      "cell_type": "code",
      "metadata": {
        "id": "QsdUXUeatdKS"
      },
      "source": [
        "from sklearn.datasets import fetch_openml\n",
        "blood = fetch_openml('blood-transfusion-service-center')\n",
        "print(blood.DESCR)"
      ],
      "execution_count": null,
      "outputs": []
    },
    {
      "cell_type": "code",
      "metadata": {
        "id": "SqdbHAhttdKT"
      },
      "source": [
        "blood.data.shape"
      ],
      "execution_count": null,
      "outputs": []
    },
    {
      "cell_type": "code",
      "metadata": {
        "id": "Nxe1yaxdtdKU"
      },
      "source": [
        "blood.data"
      ],
      "execution_count": null,
      "outputs": []
    },
    {
      "cell_type": "code",
      "metadata": {
        "id": "ToDTaaf6tdKU"
      },
      "source": [
        "import pandas as pd\n",
        "X = pd.DataFrame(blood.data, columns=['recency', 'frequency', 'total_amount', 'since_first'])"
      ],
      "execution_count": null,
      "outputs": []
    },
    {
      "cell_type": "code",
      "metadata": {
        "id": "cXkTCZ2-tdKU"
      },
      "source": [
        "blood.target.shape"
      ],
      "execution_count": null,
      "outputs": []
    },
    {
      "cell_type": "code",
      "metadata": {
        "id": "J3FPWdt_tdKV"
      },
      "source": [
        "blood.target"
      ],
      "execution_count": null,
      "outputs": []
    },
    {
      "cell_type": "code",
      "metadata": {
        "id": "w0mVPTULtdKV"
      },
      "source": [
        "y = pd.Series(blood.target)\n",
        "y.value_counts()"
      ],
      "execution_count": null,
      "outputs": []
    },
    {
      "cell_type": "code",
      "metadata": {
        "id": "dHR6lZ8NtdKV"
      },
      "source": [
        "import matplotlib.pyplot as plt\n",
        "pd.plotting.scatter_matrix(X, c=y=='2', cmap='Paired', figsize=(10, 10));"
      ],
      "execution_count": null,
      "outputs": []
    },
    {
      "cell_type": "markdown",
      "metadata": {
        "id": "8YNCJ2QWtdKW"
      },
      "source": [
        "**Data is always a numpy array (or sparse matrix) of shape (n_samples, n_features)**"
      ]
    },
    {
      "cell_type": "markdown",
      "metadata": {
        "id": "H78AoZILtdKW"
      },
      "source": [
        "Split the data to get going"
      ]
    },
    {
      "cell_type": "code",
      "metadata": {
        "id": "9F1-8WIHtdKW"
      },
      "source": [
        "from sklearn.model_selection import train_test_split\n",
        "X_train, X_test, y_train, y_test = train_test_split(X, y)"
      ],
      "execution_count": null,
      "outputs": []
    },
    {
      "cell_type": "code",
      "metadata": {
        "id": "QYgHddw-tdKX"
      },
      "source": [
        "X.shape"
      ],
      "execution_count": null,
      "outputs": []
    },
    {
      "cell_type": "code",
      "metadata": {
        "id": "A0cCAWzjtdKX"
      },
      "source": [
        "X_train.shape"
      ],
      "execution_count": null,
      "outputs": []
    },
    {
      "cell_type": "code",
      "metadata": {
        "id": "lQH2REpjtdKX"
      },
      "source": [
        "X_test.shape"
      ],
      "execution_count": null,
      "outputs": []
    },
    {
      "cell_type": "markdown",
      "metadata": {
        "id": "pEFo-51TtdKY"
      },
      "source": [
        "# Exercises\n",
        "\n",
        "## Excercise 1\n",
        "\n",
        "Load the iris dataset from the ``sklearn.datasets`` module using the ``load_iris`` function.\n",
        "The function returns a dictionary-like object that has the same attributes as ``blood``.\n",
        "\n",
        "What is the number of classes, features and data points in this dataset?\n",
        "Use a scatterplot to visualize the dataset.\n",
        "\n",
        "You can look at ``DESCR`` attribute to learn more about the dataset.\n",
        "``print(iris.DESCR)``\n",
        "\n",
        "Split the data into training and test set.\n",
        "\n",
        "## Exercise 2\n",
        "\n",
        "Usually data doesn't come in that nice a format. You can find the csv file that contains the iris dataset at the following path:\n",
        "\n",
        "```python\n",
        "import sklearn.datasets\n",
        "import os\n",
        "iris_path = os.path.join(sklearn.datasets.__path__[0], 'data', 'iris.csv')\n",
        "```\n",
        "Load the data from there using pandas ``pd.read_csv`` method and bring it into the same format as before with the data in a variable X and the labels in a variable y. The first few lines of ``iris.csv`` file looks like:\n",
        "\n",
        "```\n",
        "150,4,setosa,versicolor,virginica\n",
        "5.1,3.5,1.4,0.2,0\n",
        "4.9,3.0,1.4,0.2,0\n",
        "4.7,3.2,1.3,0.2,0\n",
        "4.6,3.1,1.5,0.2,0\n",
        "```"
      ]
    }
  ]
}