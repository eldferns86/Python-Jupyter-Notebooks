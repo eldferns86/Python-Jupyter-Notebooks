{
  "nbformat": 4,
  "nbformat_minor": 0,
  "metadata": {
    "anaconda-cloud": {},
    "kernelspec": {
      "display_name": "Python 3",
      "language": "python",
      "name": "python3"
    },
    "language_info": {
      "codemirror_mode": {
        "name": "ipython",
        "version": 3
      },
      "file_extension": ".py",
      "mimetype": "text/x-python",
      "name": "python",
      "nbconvert_exporter": "python",
      "pygments_lexer": "ipython3",
      "version": "3.7.3"
    },
    "colab": {
      "name": "03 - Preprocessing.ipynb",
      "provenance": []
    }
  },
  "cells": [
    {
      "cell_type": "markdown",
      "metadata": {
        "id": "id3DlN7jvM9q"
      },
      "source": [
        "# Preprocessing"
      ]
    },
    {
      "cell_type": "code",
      "metadata": {
        "id": "5jlAvjZMvM9r"
      },
      "source": [
        "import numpy as np\n",
        "import matplotlib.pyplot as plt\n",
        "import sklearn\n",
        "sklearn.set_config(print_changed_only=True)"
      ],
      "execution_count": null,
      "outputs": []
    },
    {
      "cell_type": "code",
      "metadata": {
        "id": "axOfwcnNvM9t"
      },
      "source": [
        "from sklearn.datasets import load_boston\n",
        "boston = load_boston()\n",
        "from sklearn.model_selection import train_test_split\n",
        "X, y = boston.data, boston.target\n",
        "X_train, X_test, y_train, y_test = train_test_split(\n",
        "    X, y, random_state=0)"
      ],
      "execution_count": null,
      "outputs": []
    },
    {
      "cell_type": "markdown",
      "metadata": {
        "id": "5LOyYpFKvlGM"
      },
      "source": [
        ""
      ]
    },
    {
      "cell_type": "code",
      "metadata": {
        "id": "yaPVreDNvM9t"
      },
      "source": [
        "print(boston.DESCR)"
      ],
      "execution_count": null,
      "outputs": []
    },
    {
      "cell_type": "code",
      "metadata": {
        "id": "KQWUi6x_vM9u"
      },
      "source": [
        "fig, axes = plt.subplots(3, 5, figsize=(20, 10))\n",
        "for i, ax in enumerate(axes.ravel()):\n",
        "    if i > 12:\n",
        "        ax.set_visible(False)\n",
        "        continue\n",
        "    ax.plot(X[:, i], y, 'o', alpha=.5)\n",
        "    ax.set_title(\"{}: {}\".format(i, boston.feature_names[i]))\n",
        "    ax.set_ylabel(\"MEDV\")"
      ],
      "execution_count": null,
      "outputs": []
    },
    {
      "cell_type": "code",
      "metadata": {
        "id": "n4syFwLlvM9u"
      },
      "source": [
        "plt.boxplot(X)\n",
        "plt.xticks(np.arange(1, X.shape[1] + 1),\n",
        "           boston.feature_names, rotation=30, ha=\"right\");"
      ],
      "execution_count": null,
      "outputs": []
    },
    {
      "cell_type": "code",
      "metadata": {
        "id": "DOVMuBjqvM9u"
      },
      "source": [
        "from sklearn.preprocessing import StandardScaler\n",
        "scaler = StandardScaler()\n",
        "X_train_scaled = scaler.fit_transform(X_train)"
      ],
      "execution_count": null,
      "outputs": []
    },
    {
      "cell_type": "code",
      "metadata": {
        "id": "0pBkIAuNvM9v"
      },
      "source": [
        "plt.boxplot(X_train_scaled)\n",
        "plt.xticks(np.arange(1, X.shape[1] + 1),\n",
        "           boston.feature_names, rotation=30, ha=\"right\");"
      ],
      "execution_count": null,
      "outputs": []
    },
    {
      "cell_type": "code",
      "metadata": {
        "id": "eaa3fP5OvM9v"
      },
      "source": [
        "from sklearn.neighbors import KNeighborsRegressor\n",
        "knr = KNeighborsRegressor().fit(X_train, y_train)\n",
        "knr.score(X_train, y_train)"
      ],
      "execution_count": null,
      "outputs": []
    },
    {
      "cell_type": "code",
      "metadata": {
        "id": "fhRFxL22vM9v"
      },
      "source": [
        "knr.score(X_test, y_test)"
      ],
      "execution_count": null,
      "outputs": []
    },
    {
      "cell_type": "code",
      "metadata": {
        "id": "-j1nxXVqvM9w"
      },
      "source": [
        "knr_scaled = KNeighborsRegressor().fit(X_train_scaled, y_train)\n",
        "knr_scaled.fit(X_train_scaled, y_train)\n",
        "knr_scaled.score(X_train_scaled, y_train)"
      ],
      "execution_count": null,
      "outputs": []
    },
    {
      "cell_type": "code",
      "metadata": {
        "id": "NlPQ4xNvvM9w"
      },
      "source": [
        "X_test_scaled = scaler.transform(X_test)\n",
        "knr_scaled.score(X_test_scaled, y_test)"
      ],
      "execution_count": null,
      "outputs": []
    },
    {
      "cell_type": "code",
      "metadata": {
        "id": "FThEHUO7vM9w"
      },
      "source": [
        "from sklearn.ensemble import RandomForestRegressor\n",
        "rf = RandomForestRegressor(random_state=0)\n",
        "rf.fit(X_train, y_train)\n",
        "rf.score(X_test, y_test)"
      ],
      "execution_count": null,
      "outputs": []
    },
    {
      "cell_type": "code",
      "metadata": {
        "id": "fA_Bd6m3vM9x"
      },
      "source": [
        "rf_scaled = RandomForestRegressor(random_state=0)\n",
        "rf_scaled.fit(X_train_scaled, y_train)\n",
        "rf_scaled.score(X_test_scaled, y_test)"
      ],
      "execution_count": null,
      "outputs": []
    },
    {
      "cell_type": "markdown",
      "metadata": {
        "id": "UGpBHhGYvM9x"
      },
      "source": [
        "# Categorical Variables"
      ]
    },
    {
      "cell_type": "code",
      "metadata": {
        "id": "_G46dI3OvM9x"
      },
      "source": [
        "import pandas as pd\n",
        "df = pd.DataFrame({'salary': [103, 89, 142, 54, 63, 219],\n",
        "                   'boro': ['Manhattan', 'Queens', 'Manhattan', 'Brooklyn', 'Brooklyn', 'Bronx']})\n",
        "df"
      ],
      "execution_count": null,
      "outputs": []
    },
    {
      "cell_type": "code",
      "metadata": {
        "id": "Mx3iA92qvM9y"
      },
      "source": [
        "pd.get_dummies(df)"
      ],
      "execution_count": null,
      "outputs": []
    },
    {
      "cell_type": "code",
      "metadata": {
        "id": "eYd-V8jwvM9y"
      },
      "source": [
        "from sklearn.compose import make_column_transformer\n",
        "from sklearn.preprocessing import OneHotEncoder\n",
        "categorical = df.dtypes == object\n",
        "categorical"
      ],
      "execution_count": null,
      "outputs": []
    },
    {
      "cell_type": "code",
      "metadata": {
        "id": "UizDBjnHvM9y"
      },
      "source": [
        "~categorical"
      ],
      "execution_count": null,
      "outputs": []
    },
    {
      "cell_type": "code",
      "metadata": {
        "id": "zvE9DFt9vM9z"
      },
      "source": [
        "ct = make_column_transformer((OneHotEncoder(), categorical),\n",
        "                             (StandardScaler(), ~categorical))\n",
        "ct.fit_transform(df)"
      ],
      "execution_count": null,
      "outputs": []
    },
    {
      "cell_type": "code",
      "metadata": {
        "id": "RwJAKroGvM9z"
      },
      "source": [
        "ct = make_column_transformer((OneHotEncoder(sparse=False), categorical))\n",
        "ct.fit_transform(df)"
      ],
      "execution_count": null,
      "outputs": []
    },
    {
      "cell_type": "code",
      "metadata": {
        "id": "UPXCXwFVvM9z"
      },
      "source": [
        "ct = make_column_transformer((OneHotEncoder(), categorical),\n",
        "                             remainder='passthrough')\n",
        "ct.fit_transform(df)"
      ],
      "execution_count": null,
      "outputs": []
    },
    {
      "cell_type": "code",
      "metadata": {
        "id": "MAMlh3zdvM90"
      },
      "source": [
        "ct = make_column_transformer((OneHotEncoder(), categorical),\n",
        "                             remainder=StandardScaler())\n",
        "ct.fit_transform(df)"
      ],
      "execution_count": null,
      "outputs": []
    },
    {
      "cell_type": "markdown",
      "metadata": {
        "id": "kRP4JuDzvM90"
      },
      "source": [
        "# Exercises\n",
        "\n",
        "## Exercise 1\n",
        "Load the \"adult\" datasets using consisting of income data from the census, including information whether someone has a salary of less than \\$50k or more. Look at the data using the ``head`` method. Our final goal in Exercise 4 will be to classify entries into those making less than \\$50k and those that make more.\n",
        "\n",
        "## Exercise 2\n",
        "Experiment with visualizing the data. Can you find out which features influence the income the most?\n",
        "\n",
        "## Exercise 3\n",
        "Separate the target variable from the features.\n",
        "Split the data into training and test set.\n",
        "Apply dummy encoding and scaling.\n",
        "How did this change the number of variables?\n",
        "\n",
        "## Exercise 4\n",
        "Build and evaluate a LogisticRegression model on the data.\n",
        "\n"
      ]
    },
    {
      "cell_type": "code",
      "metadata": {
        "id": "JJymSgCuvM90"
      },
      "source": [
        "data = pd.read_csv(\"data/adult.csv\", index_col=0)"
      ],
      "execution_count": null,
      "outputs": []
    }
  ]
}