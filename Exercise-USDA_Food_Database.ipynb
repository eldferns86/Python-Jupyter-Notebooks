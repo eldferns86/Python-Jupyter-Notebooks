{
  "nbformat": 4,
  "nbformat_minor": 0,
  "metadata": {
    "colab": {
      "name": "Exercise - USDA Food Database.ipynb",
      "provenance": []
    },
    "kernelspec": {
      "name": "python3",
      "display_name": "Python 3"
    },
    "language_info": {
      "name": "python"
    }
  },
  "cells": [
    {
      "cell_type": "markdown",
      "metadata": {
        "id": "EdI5y70sRDHH"
      },
      "source": [
        "The US Department of Agriculture makes available a database of food nutrient infor- mation. Ashley Williams, an English hacker, has made available a version of this da- tabase in JSON format (http://ashleyw.co.uk/project/food-nutrient-database). The re- cords look like this:\n",
        "\n",
        "{ \"id\": 21441, \"description\": \"KENTUCKY FRIED CHICKEN, Fried Chicken, EXTRA CRISPY, Wing, meat and skin with breading\", \"tags\": [\"KFC\"], \"manufacturer\": \"Kentucky Fried Chicken\", \"group\": \"Fast Foods\", \"portions\": [ { \"amount\": 1, \"unit\": \"wing, with skin\", \"grams\": 68.0 },\n",
        "\n",
        "...\n",
        "], \"nutrients\": [ { \"value\": 20.8, \"units\": \"g\", \"description\": \"Protein\", \"group\": \"Composition\" },\n",
        "\n",
        "...\n",
        "] }"
      ]
    },
    {
      "cell_type": "markdown",
      "metadata": {
        "id": "t7V2lfvtRKno"
      },
      "source": [
        "Each food has a number of identifying attributes along with two lists of nutrients and portion sizes. Having the data in this form is not particularly amenable for analysis, so we need to do some work to wrangle the data into a better form."
      ]
    },
    {
      "cell_type": "markdown",
      "metadata": {
        "id": "o-6dc1cWRRfM"
      },
      "source": [
        "Step 1: Download and upload the json file into Google Colab"
      ]
    },
    {
      "cell_type": "markdown",
      "metadata": {
        "id": "rG5KQrc9RZvz"
      },
      "source": [
        "Step 2: Load the json file into a Python Dictionary \"db\" with json library"
      ]
    },
    {
      "cell_type": "code",
      "metadata": {
        "id": "yKRekSs0RB1l"
      },
      "source": [
        "import json\n",
        "db = json.load(open('datasets/usda_food/database.json'))\n",
        "len(db)"
      ],
      "execution_count": null,
      "outputs": []
    },
    {
      "cell_type": "markdown",
      "metadata": {
        "id": "SFy2LNTnSP0e"
      },
      "source": [
        "Each entry in db is a dict containing all the data for a single food. The 'nutrients' field is a list of dicts, one for each nutrient:"
      ]
    },
    {
      "cell_type": "markdown",
      "metadata": {
        "id": "joDUWfXYRjzo"
      },
      "source": [
        "Step 3: Check the keys in dict db in first row."
      ]
    },
    {
      "cell_type": "code",
      "metadata": {
        "id": "w_KT1ZIoYvNG"
      },
      "source": [
        " "
      ],
      "execution_count": null,
      "outputs": []
    },
    {
      "cell_type": "markdown",
      "metadata": {
        "id": "usW_tt_DScBe"
      },
      "source": [
        "Step 4: Check the keys in \"nutrients\" in first row."
      ]
    },
    {
      "cell_type": "markdown",
      "metadata": {
        "id": "YT_VGG-cSjPW"
      },
      "source": [
        "Step 5: Convert \"nutrients\" of first row into a Dataframe called as nutrients."
      ]
    },
    {
      "cell_type": "markdown",
      "metadata": {
        "id": "GAry-_TYS37K"
      },
      "source": [
        "Step 6: Build another DataFrame info by extracting 'description','group','id' and 'manufacture'."
      ]
    },
    {
      "cell_type": "markdown",
      "metadata": {
        "id": "ZQxSe2HYTLaq"
      },
      "source": [
        "Step 7: Check the distribution of food groups with value_counts."
      ]
    },
    {
      "cell_type": "markdown",
      "metadata": {
        "id": "9pMMPrabUAiP"
      },
      "source": [
        "Step 8: Let us assemble the nutrients for each food into a single large table nutrients. First, covert each list of food nutrients to a DataFrame, add a column for the food id, and append the DataFrame to a list. Then, these can be concatenated together with concat."
      ]
    },
    {
      "cell_type": "markdown",
      "metadata": {
        "id": "PqKTsvUtUi2P"
      },
      "source": [
        "If all goes well, nutrients should look like this:\n",
        "\n",
        "<class 'pandas.core.frame.DataFrame'> \n",
        "Int64Index: 389355 entries, 0 to 389354 \n",
        "Data columns:\n",
        "description 389855 non-null values\n",
        "group 389855 non-null values\n",
        "units 389855 non-null values\n",
        "value 389855 non-null values\n",
        "id 389855 non-null values\n",
        "dtypes: float64(1), int64(1), object(3)"
      ]
    },
    {
      "cell_type": "markdown",
      "metadata": {
        "id": "hBaC70nnUy0E"
      },
      "source": [
        "Step 9: Drop duplicates in this DataFrame"
      ]
    },
    {
      "cell_type": "markdown",
      "metadata": {
        "id": "UkFLuFuAVDxr"
      },
      "source": [
        "Step 10: Since 'group' and 'description' is in both DataFrame objects, we can rename them to make it clear what is what.\n",
        "info: --> fgroup, food\n",
        "nutrients: --> nutgroup, nutrient"
      ]
    },
    {
      "cell_type": "markdown",
      "metadata": {
        "id": "o5IWB3HNVZqL"
      },
      "source": [
        "Step 11: Merge info with nutrients. Call new dataframe as ndata."
      ]
    },
    {
      "cell_type": "markdown",
      "metadata": {
        "id": "-Hw2fKWPWehY"
      },
      "source": [
        "Step 12: Get a plot of median values by food group and nutrient type."
      ]
    },
    {
      "cell_type": "markdown",
      "metadata": {
        "id": "hAzisyNcWx7u"
      },
      "source": [
        "Step 13: How do we know which food is most dense in each nutrient."
      ]
    },
    {
      "cell_type": "markdown",
      "metadata": {
        "id": "9_QxAftlW9xV"
      },
      "source": [
        "Step 14: The resulting DataFrame is a bit too large to display in the book; can you show just the 'Amino Acids' nutrient group?"
      ]
    }
  ]
}